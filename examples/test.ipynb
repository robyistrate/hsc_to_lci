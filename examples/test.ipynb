{
 "cells": [
  {
   "cell_type": "markdown",
   "metadata": {},
   "source": [
    "# Use example of *hsc_to_lci*\n",
    "\n",
    "Questions:\n",
    "\n",
    "- What are the relevant rows for inputs and outputs?\n",
    "- If each unit process is a dataset, we need to define a reference product for each unit process, how the unit processes are connected, as well as the amount of each unit process entering the next one\n",
    "- We need a mapping file between simulation variables and ecoinvent datasets... this can be tricky. For example, by default we can define the \"alfa-spodumene\" corresponds to the \"market for spodumene\" in ecoinvent... however it can also be \"spodumene production in AU\"\n",
    "- Are the name of the streams standard or should they be defined for every simulation?"
   ]
  },
  {
   "cell_type": "code",
   "execution_count": 1,
   "metadata": {},
   "outputs": [],
   "source": [
    "import project_path\n",
    "from hsc_to_lci.converter import Converter\n",
    "#from hsc_to_lci import utils\n",
    "\n",
    "#import pandas as pd\n",
    "#import yaml\n",
    "#import brightway2 as bw"
   ]
  },
  {
   "cell_type": "code",
   "execution_count": 2,
   "metadata": {},
   "outputs": [
    {
     "name": "stdout",
     "output_type": "stream",
     "text": [
      "Importing the ecoinvent database...\n",
      "Getting activity data\n"
     ]
    },
    {
     "name": "stderr",
     "output_type": "stream",
     "text": [
      "100%|██████████| 21238/21238 [00:00<00:00, 55738.45it/s]\n"
     ]
    },
    {
     "name": "stdout",
     "output_type": "stream",
     "text": [
      "Adding exchange data to activities\n"
     ]
    },
    {
     "name": "stderr",
     "output_type": "stream",
     "text": [
      "100%|██████████| 674593/674593 [00:47<00:00, 14286.32it/s]\n"
     ]
    },
    {
     "name": "stdout",
     "output_type": "stream",
     "text": [
      "Filling out exchange data\n"
     ]
    },
    {
     "name": "stderr",
     "output_type": "stream",
     "text": [
      "100%|██████████| 21238/21238 [00:03<00:00, 6743.60it/s] \n"
     ]
    },
    {
     "name": "stdout",
     "output_type": "stream",
     "text": [
      "Importing the biosphere database...\n"
     ]
    }
   ],
   "source": [
    "METADATA_PATH = \"meta_data.yaml\"\n",
    "converter_obj = Converter(metadata = METADATA_PATH)"
   ]
  },
  {
   "cell_type": "code",
   "execution_count": 3,
   "metadata": {},
   "outputs": [
    {
     "name": "stdout",
     "output_type": "stream",
     "text": [
      "Format inventories to Brightway2 format\n",
      "Extract process simulation data\n",
      "Apply strategies:\n",
      "... add technosphere/biosphere flow type\n",
      "... change units to ecoinvent format\n",
      "... convert process simulation units to ecoinvent units\n"
     ]
    },
    {
     "name": "stderr",
     "output_type": "stream",
     "text": [
      "Writing activities to SQLite3 database:\n"
     ]
    },
    {
     "name": "stdout",
     "output_type": "stream",
     "text": [
      "Linking datasets within the database and to ecoinvent and biosphere databases\n",
      "Done!\n",
      "Writing LCI database to Brightway2 and exporting inventories in Excel file...\n",
      "10 datasets\n",
      "37 exchanges\n",
      "0 unlinked exchanges\n",
      "  \n"
     ]
    },
    {
     "name": "stderr",
     "output_type": "stream",
     "text": [
      "0% [##########] 100% | ETA: 00:00:00\n",
      "Total time elapsed: 00:00:00\n"
     ]
    },
    {
     "name": "stdout",
     "output_type": "stream",
     "text": [
      "Title: Writing activities to SQLite3 database:\n",
      "  Started: 10/31/2023 16:44:46\n",
      "  Finished: 10/31/2023 16:44:46\n",
      "  Total time elapsed: 00:00:00\n",
      "  CPU %: 97.70\n",
      "  Memory %: 35.07\n",
      "Created database: lithium simulation inventories\n"
     ]
    },
    {
     "data": {
      "text/plain": [
       "'Database created and inventories exported to: c:\\\\Users\\\\istrateir\\\\Research\\\\Projects\\\\hsc_to_lci\\\\examples\\\\lithium simulation inventories_31-10-2023.xlsx'"
      ]
     },
     "execution_count": 3,
     "metadata": {},
     "output_type": "execute_result"
    }
   ],
   "source": [
    "converter_obj.create_lci_database()"
   ]
  },
  {
   "cell_type": "code",
   "execution_count": 3,
   "metadata": {},
   "outputs": [
    {
     "name": "stdout",
     "output_type": "stream",
     "text": [
      "Extract process simulation data\n",
      "Apply strategies:\n",
      "... add technosphere/biosphere flow type\n",
      "... change units to ecoinvent format\n",
      "... convert process simulation units to ecoinvent units\n"
     ]
    }
   ],
   "source": [
    "streams_data = converter_obj.get_input_output_streams_data()"
   ]
  },
  {
   "cell_type": "code",
   "execution_count": 4,
   "metadata": {},
   "outputs": [
    {
     "data": {
      "text/html": [
       "<div>\n",
       "<style scoped>\n",
       "    .dataframe tbody tr th:only-of-type {\n",
       "        vertical-align: middle;\n",
       "    }\n",
       "\n",
       "    .dataframe tbody tr th {\n",
       "        vertical-align: top;\n",
       "    }\n",
       "\n",
       "    .dataframe thead th {\n",
       "        text-align: right;\n",
       "    }\n",
       "</style>\n",
       "<table border=\"1\" class=\"dataframe\">\n",
       "  <thead>\n",
       "    <tr style=\"text-align: right;\">\n",
       "      <th></th>\n",
       "      <th>Stream Name</th>\n",
       "      <th>Amount</th>\n",
       "      <th>Unit</th>\n",
       "      <th>Stream type</th>\n",
       "      <th>LCI type</th>\n",
       "    </tr>\n",
       "    <tr>\n",
       "      <th>Unit Name</th>\n",
       "      <th></th>\n",
       "      <th></th>\n",
       "      <th></th>\n",
       "      <th></th>\n",
       "      <th></th>\n",
       "    </tr>\n",
       "  </thead>\n",
       "  <tbody>\n",
       "    <tr>\n",
       "      <th>AcidRoasting</th>\n",
       "      <td>Sulphuric Acid</td>\n",
       "      <td>17179.49615</td>\n",
       "      <td>kilogram</td>\n",
       "      <td>Input Streams</td>\n",
       "      <td>technosphere</td>\n",
       "    </tr>\n",
       "    <tr>\n",
       "      <th>AcidRoasting</th>\n",
       "      <td>EnergyAR</td>\n",
       "      <td>7543.252056</td>\n",
       "      <td>kilowatt hour</td>\n",
       "      <td>Input Streams</td>\n",
       "      <td>technosphere</td>\n",
       "    </tr>\n",
       "    <tr>\n",
       "      <th>Burner</th>\n",
       "      <td>Natural gas</td>\n",
       "      <td>605.227435</td>\n",
       "      <td>cubic meter</td>\n",
       "      <td>Input Streams</td>\n",
       "      <td>technosphere</td>\n",
       "    </tr>\n",
       "    <tr>\n",
       "      <th>Burner</th>\n",
       "      <td>Air</td>\n",
       "      <td>7101.328477</td>\n",
       "      <td>cubic meter</td>\n",
       "      <td>Input Streams</td>\n",
       "      <td>technosphere</td>\n",
       "    </tr>\n",
       "    <tr>\n",
       "      <th>Carbonation</th>\n",
       "      <td>Soda Ash</td>\n",
       "      <td>11800.0</td>\n",
       "      <td>kilogram</td>\n",
       "      <td>Input Streams</td>\n",
       "      <td>technosphere</td>\n",
       "    </tr>\n",
       "    <tr>\n",
       "      <th>Drying</th>\n",
       "      <td>EnergyD</td>\n",
       "      <td>237.074335</td>\n",
       "      <td>kilowatt hour</td>\n",
       "      <td>Input Streams</td>\n",
       "      <td>technosphere</td>\n",
       "    </tr>\n",
       "    <tr>\n",
       "      <th>Drying</th>\n",
       "      <td>H2O(g)</td>\n",
       "      <td>0.293154</td>\n",
       "      <td>cubic meter</td>\n",
       "      <td>Output Streams</td>\n",
       "      <td>biosphere</td>\n",
       "    </tr>\n",
       "    <tr>\n",
       "      <th>Evaporation</th>\n",
       "      <td>EnergyV</td>\n",
       "      <td>2149.081133</td>\n",
       "      <td>kilowatt hour</td>\n",
       "      <td>Input Streams</td>\n",
       "      <td>technosphere</td>\n",
       "    </tr>\n",
       "    <tr>\n",
       "      <th>Evaporation</th>\n",
       "      <td>H2O(g)</td>\n",
       "      <td>2.726735</td>\n",
       "      <td>cubic meter</td>\n",
       "      <td>Output Streams</td>\n",
       "      <td>biosphere</td>\n",
       "    </tr>\n",
       "    <tr>\n",
       "      <th>Final Cooling</th>\n",
       "      <td>O2(g)</td>\n",
       "      <td>-0.0</td>\n",
       "      <td>kilogram</td>\n",
       "      <td>Output Streams</td>\n",
       "      <td>biosphere</td>\n",
       "    </tr>\n",
       "    <tr>\n",
       "      <th>Leaching</th>\n",
       "      <td>Lime</td>\n",
       "      <td>3160.586117</td>\n",
       "      <td>kilogram</td>\n",
       "      <td>Input Streams</td>\n",
       "      <td>technosphere</td>\n",
       "    </tr>\n",
       "    <tr>\n",
       "      <th>Leaching</th>\n",
       "      <td>Hot Water</td>\n",
       "      <td>2000</td>\n",
       "      <td>kilogram</td>\n",
       "      <td>Input Streams</td>\n",
       "      <td>technosphere</td>\n",
       "    </tr>\n",
       "    <tr>\n",
       "      <th>Purification</th>\n",
       "      <td>Lime 2</td>\n",
       "      <td>6751.569635</td>\n",
       "      <td>kilogram</td>\n",
       "      <td>Input Streams</td>\n",
       "      <td>technosphere</td>\n",
       "    </tr>\n",
       "    <tr>\n",
       "      <th>Rotary Decrepitation Kiln</th>\n",
       "      <td>H2O(g)</td>\n",
       "      <td>1.035267</td>\n",
       "      <td>cubic meter</td>\n",
       "      <td>Output Streams</td>\n",
       "      <td>biosphere</td>\n",
       "    </tr>\n",
       "    <tr>\n",
       "      <th>Rotary Decrepitation Kiln</th>\n",
       "      <td>CO2(g)</td>\n",
       "      <td>1190.45568</td>\n",
       "      <td>kilogram</td>\n",
       "      <td>Output Streams</td>\n",
       "      <td>biosphere</td>\n",
       "    </tr>\n",
       "    <tr>\n",
       "      <th>Rotary Decrepitation Kiln</th>\n",
       "      <td>N2(g)</td>\n",
       "      <td>6978.392191</td>\n",
       "      <td>kilogram</td>\n",
       "      <td>Output Streams</td>\n",
       "      <td>biosphere</td>\n",
       "    </tr>\n",
       "    <tr>\n",
       "      <th>Rotary Decrepitation Kiln</th>\n",
       "      <td>alfa-Spodumene</td>\n",
       "      <td>12000</td>\n",
       "      <td>kilogram</td>\n",
       "      <td>Input Streams</td>\n",
       "      <td>technosphere</td>\n",
       "    </tr>\n",
       "    <tr>\n",
       "      <th>Rotary Decrepitation Kiln</th>\n",
       "      <td>O2(g)</td>\n",
       "      <td>414.956823</td>\n",
       "      <td>kilogram</td>\n",
       "      <td>Output Streams</td>\n",
       "      <td>biosphere</td>\n",
       "    </tr>\n",
       "  </tbody>\n",
       "</table>\n",
       "</div>"
      ],
      "text/plain": [
       "                              Stream Name       Amount           Unit  \\\n",
       "Unit Name                                                               \n",
       "AcidRoasting               Sulphuric Acid  17179.49615       kilogram   \n",
       "AcidRoasting                     EnergyAR  7543.252056  kilowatt hour   \n",
       "Burner                        Natural gas   605.227435    cubic meter   \n",
       "Burner                                Air  7101.328477    cubic meter   \n",
       "Carbonation                      Soda Ash      11800.0       kilogram   \n",
       "Drying                            EnergyD   237.074335  kilowatt hour   \n",
       "Drying                             H2O(g)     0.293154    cubic meter   \n",
       "Evaporation                       EnergyV  2149.081133  kilowatt hour   \n",
       "Evaporation                        H2O(g)     2.726735    cubic meter   \n",
       "Final Cooling                       O2(g)         -0.0       kilogram   \n",
       "Leaching                             Lime  3160.586117       kilogram   \n",
       "Leaching                        Hot Water         2000       kilogram   \n",
       "Purification                       Lime 2  6751.569635       kilogram   \n",
       "Rotary Decrepitation Kiln          H2O(g)     1.035267    cubic meter   \n",
       "Rotary Decrepitation Kiln          CO2(g)   1190.45568       kilogram   \n",
       "Rotary Decrepitation Kiln           N2(g)  6978.392191       kilogram   \n",
       "Rotary Decrepitation Kiln  alfa-Spodumene        12000       kilogram   \n",
       "Rotary Decrepitation Kiln           O2(g)   414.956823       kilogram   \n",
       "\n",
       "                              Stream type      LCI type  \n",
       "Unit Name                                                \n",
       "AcidRoasting                Input Streams  technosphere  \n",
       "AcidRoasting                Input Streams  technosphere  \n",
       "Burner                      Input Streams  technosphere  \n",
       "Burner                      Input Streams  technosphere  \n",
       "Carbonation                 Input Streams  technosphere  \n",
       "Drying                      Input Streams  technosphere  \n",
       "Drying                     Output Streams     biosphere  \n",
       "Evaporation                 Input Streams  technosphere  \n",
       "Evaporation                Output Streams     biosphere  \n",
       "Final Cooling              Output Streams     biosphere  \n",
       "Leaching                    Input Streams  technosphere  \n",
       "Leaching                    Input Streams  technosphere  \n",
       "Purification                Input Streams  technosphere  \n",
       "Rotary Decrepitation Kiln  Output Streams     biosphere  \n",
       "Rotary Decrepitation Kiln  Output Streams     biosphere  \n",
       "Rotary Decrepitation Kiln  Output Streams     biosphere  \n",
       "Rotary Decrepitation Kiln   Input Streams  technosphere  \n",
       "Rotary Decrepitation Kiln  Output Streams     biosphere  "
      ]
     },
     "execution_count": 4,
     "metadata": {},
     "output_type": "execute_result"
    }
   ],
   "source": [
    "streams_data"
   ]
  },
  {
   "cell_type": "code",
   "execution_count": 14,
   "metadata": {},
   "outputs": [],
   "source": [
    "import wurst\n",
    "import bw2io\n",
    "from constructive_geometries import *\n",
    "import copy"
   ]
  },
  {
   "cell_type": "code",
   "execution_count": 9,
   "metadata": {},
   "outputs": [
    {
     "data": {
      "text/plain": [
       "['Burner',\n",
       " 'Drying',\n",
       " 'AcidRoasting',\n",
       " 'Leaching',\n",
       " 'Rotary Decrepitation Kiln',\n",
       " 'Carbonation',\n",
       " 'Purification',\n",
       " 'Final Cooling',\n",
       " 'Evaporation']"
      ]
     },
     "execution_count": 9,
     "metadata": {},
     "output_type": "execute_result"
    }
   ],
   "source": [
    "unit_processes = list(set(streams_data.index))\n",
    "unit_processes"
   ]
  },
  {
   "cell_type": "code",
   "execution_count": 16,
   "metadata": {},
   "outputs": [
    {
     "name": "stdout",
     "output_type": "stream",
     "text": [
      "Burner\n",
      "{'name': 'market for natural gas, high pressure', 'product': 'natural gas, high pressure', 'unit': 'cubic meter'}\n",
      "market for natural gas, high pressure natural gas, high pressure RoW\n",
      "Burner\n",
      "{'name': 'market for compressed air, 1000 kPa gauge', 'product': 'compressed air, 1000 kPa gauge', 'unit': 'kilogram'}\n"
     ]
    },
    {
     "ename": "IndexError",
     "evalue": "list index out of range",
     "output_type": "error",
     "traceback": [
      "\u001b[1;31m---------------------------------------------------------------------------\u001b[0m",
      "\u001b[1;31mIndexError\u001b[0m                                Traceback (most recent call last)",
      "\u001b[1;32mc:\\Users\\istrateir\\Research\\Projects\\hsc_to_lci\\examples\\test.ipynb Cell 8\u001b[0m line \u001b[0;36m4\n\u001b[0;32m     <a href='vscode-notebook-cell:/c%3A/Users/istrateir/Research/Projects/hsc_to_lci/examples/test.ipynb#X12sZmlsZQ%3D%3D?line=36'>37</a>\u001b[0m         \u001b[39mif\u001b[39;00m \u001b[39mlen\u001b[39m(match_dataset) \u001b[39m>\u001b[39m \u001b[39m0\u001b[39m:\n\u001b[0;32m     <a href='vscode-notebook-cell:/c%3A/Users/istrateir/Research/Projects/hsc_to_lci/examples/test.ipynb#X12sZmlsZQ%3D%3D?line=37'>38</a>\u001b[0m             \u001b[39mbreak\u001b[39;00m\n\u001b[1;32m---> <a href='vscode-notebook-cell:/c%3A/Users/istrateir/Research/Projects/hsc_to_lci/examples/test.ipynb#X12sZmlsZQ%3D%3D?line=39'>40</a>\u001b[0m match_dataset \u001b[39m=\u001b[39m match_dataset[\u001b[39m0\u001b[39;49m]\n\u001b[0;32m     <a href='vscode-notebook-cell:/c%3A/Users/istrateir/Research/Projects/hsc_to_lci/examples/test.ipynb#X12sZmlsZQ%3D%3D?line=40'>41</a>\u001b[0m \u001b[39mprint\u001b[39m(match_dataset[\u001b[39m\"\u001b[39m\u001b[39mname\u001b[39m\u001b[39m\"\u001b[39m], match_dataset[\u001b[39m\"\u001b[39m\u001b[39mreference product\u001b[39m\u001b[39m\"\u001b[39m], match_dataset[\u001b[39m\"\u001b[39m\u001b[39mlocation\u001b[39m\u001b[39m\"\u001b[39m])\n",
      "\u001b[1;31mIndexError\u001b[0m: list index out of range"
     ]
    }
   ],
   "source": [
    "geomatcher = Geomatcher() # Initialize the geomatcher object \n",
    "LOCATION = converter_obj.metadata['system description'][\"location\"]\n",
    "\n",
    "for up in unit_processes:\n",
    "    for index, row in streams_data.loc[[up]].iterrows():\n",
    "        if row[\"LCI type\"] == \"technosphere\":\n",
    "            print(up)\n",
    "            exc_filter = {'name': converter_obj.simulation_lci_map[row[\"Stream Name\"]][\"Name\"],\n",
    "                          'product': converter_obj.simulation_lci_map[row[\"Stream Name\"]][\"Reference product\"],\n",
    "                          'unit': row['Unit']}\n",
    "            print(exc_filter)\n",
    "            # Get both \"market group\" and \"market\" activities:\n",
    "            if 'market for' in exc_filter['name']:\n",
    "                possible_datasets_group = list(wurst.transformations.geo.get_possibles(exc_filter, converter_obj.ecoinvent_db)) \n",
    "\n",
    "                exc_filter_market = copy.deepcopy(exc_filter)\n",
    "                exc_filter_market.update({'name': exc_filter['name'].replace('market', 'market group')})\n",
    "                possible_datasets_market = list(wurst.transformations.geo.get_possibles(exc_filter_market, converter_obj.ecoinvent_db))\n",
    "\n",
    "                possible_datasets = possible_datasets_group + possible_datasets_market\n",
    "            \n",
    "            else:\n",
    "                possible_datasets = list(wurst.transformations.geo.get_possibles(exc_filter, converter_obj.ecoinvent_db))\n",
    "\n",
    "            # Check if there is an exact match for the location\n",
    "            match_dataset = [ds for ds in possible_datasets if ds['location'] == LOCATION]\n",
    "            \n",
    "            # If there is no specific dataset for the location, search for the supraregional locations\n",
    "            if len(match_dataset) == 0:\n",
    "                loc_intersection = geomatcher.intersects(LOCATION, biggest_first=False)\n",
    "                loc_intersection = [i[1] if type(i)==tuple else i for i in loc_intersection]\n",
    "                # Inser RoW before GLO\n",
    "                loc_intersection.insert(loc_intersection.index(\"GLO\"), \"RoW\")\n",
    "\n",
    "                for loc in loc_intersection:\n",
    "                    match_dataset = [ds for ds in possible_datasets if ds['location'] == loc]\n",
    "                    if len(match_dataset) > 0:\n",
    "                        break\n",
    "\n",
    "            match_dataset = match_dataset[0]\n",
    "            print(match_dataset[\"name\"], match_dataset[\"reference product\"], match_dataset[\"location\"])\n",
    "        "
   ]
  },
  {
   "cell_type": "code",
   "execution_count": 5,
   "metadata": {},
   "outputs": [
    {
     "name": "stdout",
     "output_type": "stream",
     "text": [
      "Format inventories to Brightway2 format\n",
      "Extract process simulation data\n",
      "Apply strategies:\n",
      "... add technosphere/biosphere flow type\n",
      "... change units to ecoinvent format\n",
      "... convert process simulation units to ecoinvent units\n",
      "Linking datasets within the database and to ecoinvent and biosphere databases\n",
      "Done!\n"
     ]
    }
   ],
   "source": [
    "inventories = converter_obj.format_inventories_for_bw()"
   ]
  },
  {
   "cell_type": "code",
   "execution_count": null,
   "metadata": {},
   "outputs": [],
   "source": []
  }
 ],
 "metadata": {
  "kernelspec": {
   "display_name": "iri_ei39",
   "language": "python",
   "name": "python3"
  },
  "language_info": {
   "codemirror_mode": {
    "name": "ipython",
    "version": 3
   },
   "file_extension": ".py",
   "mimetype": "text/x-python",
   "name": "python",
   "nbconvert_exporter": "python",
   "pygments_lexer": "ipython3",
   "version": "3.10.2"
  }
 },
 "nbformat": 4,
 "nbformat_minor": 2
}
