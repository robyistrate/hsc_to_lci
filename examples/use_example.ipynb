{
 "cells": [
  {
   "cell_type": "markdown",
   "metadata": {},
   "source": [
    "# Use example of *hsc_to_lci*"
   ]
  },
  {
   "cell_type": "code",
   "execution_count": 1,
   "metadata": {},
   "outputs": [],
   "source": [
    "import project_path\n",
    "from hsc_to_lci.converter import Converter\n",
    "import brightway2 as bw\n",
    "import pandas as pd\n",
    "import numpy as np"
   ]
  },
  {
   "cell_type": "code",
   "execution_count": 2,
   "metadata": {},
   "outputs": [
    {
     "name": "stdout",
     "output_type": "stream",
     "text": [
      "Importing the ecoinvent database...\n",
      "Importing the biosphere database...\n"
     ]
    }
   ],
   "source": [
    "METADATA_PATH = \"meta_data.yaml\"\n",
    "converter_obj = Converter(metadata=METADATA_PATH)"
   ]
  },
  {
   "cell_type": "code",
   "execution_count": 3,
   "metadata": {},
   "outputs": [
    {
     "name": "stdout",
     "output_type": "stream",
     "text": [
      "Extract process simulation results data\n",
      "Apply strategies:\n",
      "... add technosphere/biosphere flow type\n",
      "... change units to ecoinvent format\n",
      "... convert process simulation units to ecoinvent units\n"
     ]
    }
   ],
   "source": [
    "simulation_results_processed = converter_obj.get_simulation_results_data()"
   ]
  },
  {
   "cell_type": "code",
   "execution_count": 5,
   "metadata": {},
   "outputs": [
    {
     "name": "stdout",
     "output_type": "stream",
     "text": [
      "Format inventories to Brightway2 format\n",
      "Extract process simulation results data\n",
      "Apply strategies:\n",
      "... add technosphere/biosphere flow type\n",
      "... change units to ecoinvent format\n",
      "... convert process simulation units to ecoinvent units\n",
      "Linking datasets within the database and to ecoinvent and biosphere databases\n",
      "Done!\n"
     ]
    }
   ],
   "source": [
    "inventories = converter_obj.format_inventories_for_bw()"
   ]
  },
  {
   "cell_type": "code",
   "execution_count": 7,
   "metadata": {},
   "outputs": [
    {
     "name": "stdout",
     "output_type": "stream",
     "text": [
      "Format inventories to Brightway2 format\n",
      "Extract process simulation results data\n",
      "Apply strategies:\n",
      "... add technosphere/biosphere flow type\n",
      "... change units to ecoinvent format\n",
      "... convert process simulation units to ecoinvent units\n",
      "Linking datasets within the database and to ecoinvent and biosphere databases\n"
     ]
    },
    {
     "name": "stderr",
     "output_type": "stream",
     "text": [
      "Writing activities to SQLite3 database:\n"
     ]
    },
    {
     "name": "stdout",
     "output_type": "stream",
     "text": [
      "Done!\n",
      "Writing LCI database to Brightway2 and exporting inventories in Excel file...\n",
      "14 datasets\n",
      "60 exchanges\n",
      "0 unlinked exchanges\n",
      "  \n"
     ]
    },
    {
     "name": "stderr",
     "output_type": "stream",
     "text": [
      "0% [##############] 100% | ETA: 00:00:00\n",
      "Total time elapsed: 00:00:00\n"
     ]
    },
    {
     "name": "stdout",
     "output_type": "stream",
     "text": [
      "Title: Writing activities to SQLite3 database:\n",
      "  Started: 12/08/2023 12:35:18\n",
      "  Finished: 12/08/2023 12:35:18\n",
      "  Total time elapsed: 00:00:00\n",
      "  CPU %: 104.20\n",
      "  Memory %: 2.85\n",
      "Created database: lithium simulation inventories\n"
     ]
    },
    {
     "data": {
      "text/plain": [
       "'Database created and inventories exported to: c:\\\\Users\\\\istrateir\\\\Research\\\\Projects\\\\hsc_to_lci\\\\examples\\\\lithium simulation inventories_08-12-2023.xlsx'"
      ]
     },
     "execution_count": 7,
     "metadata": {},
     "output_type": "execute_result"
    }
   ],
   "source": [
    "converter_obj.create_lci_database()"
   ]
  },
  {
   "cell_type": "code",
   "execution_count": null,
   "metadata": {},
   "outputs": [],
   "source": []
  }
 ],
 "metadata": {
  "kernelspec": {
   "display_name": "iri_ei39",
   "language": "python",
   "name": "python3"
  },
  "language_info": {
   "codemirror_mode": {
    "name": "ipython",
    "version": 3
   },
   "file_extension": ".py",
   "mimetype": "text/x-python",
   "name": "python",
   "nbconvert_exporter": "python",
   "pygments_lexer": "ipython3",
   "version": "3.10.2"
  }
 },
 "nbformat": 4,
 "nbformat_minor": 2
}
